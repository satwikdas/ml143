{
 "cells": [
  {
   "cell_type": "code",
   "execution_count": null,
   "id": "alert-ottawa",
   "metadata": {},
   "outputs": [],
   "source": [
    "import pandas as pd\n",
    "import numpy as np\n",
    "from sklearn.model_selection import train_test_split\n",
    "from sklearn import preprocessing\n",
    "from sklearn.preprocessing import StandardScaler\n",
    "from sklearn.model_selection import KFold\n",
    "from sklearn.metrics import accuracy_score\n",
    "\n",
    "\n",
    "\n",
    "\n",
    "\n",
    "\n",
    "df=pd.read_csv(\"stud-univ.csv\")\n",
    "\n",
    "\n",
    "\n",
    "\n",
    "\n",
    "\n"
   ]
  },
  {
   "cell_type": "code",
   "execution_count": null,
   "id": "harmful-chambers",
   "metadata": {},
   "outputs": [],
   "source": [
    "df.head()"
   ]
  },
  {
   "cell_type": "code",
   "execution_count": null,
   "id": "selected-evanescence",
   "metadata": {},
   "outputs": [],
   "source": []
  },
  {
   "cell_type": "code",
   "execution_count": null,
   "id": "cubic-september",
   "metadata": {},
   "outputs": [],
   "source": []
  },
  {
   "cell_type": "code",
   "execution_count": null,
   "id": "duplicate-enhancement",
   "metadata": {},
   "outputs": [],
   "source": []
  },
  {
   "cell_type": "code",
   "execution_count": null,
   "id": "coordinated-consumption",
   "metadata": {},
   "outputs": [],
   "source": []
  },
  {
   "cell_type": "code",
   "execution_count": null,
   "id": "curious-roberts",
   "metadata": {},
   "outputs": [],
   "source": []
  },
  {
   "cell_type": "code",
   "execution_count": null,
   "id": "closed-brave",
   "metadata": {},
   "outputs": [],
   "source": []
  },
  {
   "cell_type": "code",
   "execution_count": null,
   "id": "graphic-transportation",
   "metadata": {},
   "outputs": [],
   "source": []
  },
  {
   "cell_type": "code",
   "execution_count": null,
   "id": "unnecessary-classification",
   "metadata": {},
   "outputs": [],
   "source": []
  },
  {
   "cell_type": "code",
   "execution_count": null,
   "id": "pressed-alert",
   "metadata": {},
   "outputs": [],
   "source": []
  },
  {
   "cell_type": "code",
   "execution_count": null,
   "id": "moderate-soundtrack",
   "metadata": {},
   "outputs": [],
   "source": []
  },
  {
   "cell_type": "code",
   "execution_count": null,
   "id": "military-mustang",
   "metadata": {},
   "outputs": [],
   "source": [
    "x = df.iloc[:,[0,1]].values\n",
    "y = df.iloc[:,2].values\n",
    "xp = preprocessing.scale(x)\n",
    "kf = KFold(n_splits=5)\n",
    "for xtr,xt in kf.split(xp):\n",
    "    xtrain,xtest,ytrain,ytest = train_test_split(xp,y,test_size = 0.20,random_state=0)\n",
    "    x1 = xtrain[:,0]\n",
    "    x2 = xtrain[:,1]\n",
    "    b0=0.0\n",
    "    b1=0.0\n",
    "    b2=0.0\n",
    "    epoch = 100\n",
    "    alpha = 0.001\n",
    "    while(epoch>0):\n",
    "        for i in range(len(xtrain)):\n",
    "            prediction = 1/(1+np.exp(-(b0+b1*x1[i]+b2*x2[i])))\n",
    "            b0 = b0+alpha*(ytrain[i]-prediction)*prediction*(1-prediction)*1.0\n",
    "            b1 = b1+alpha*(ytrain[i]-prediction)*prediction*(1-prediction)*x1[i]\n",
    "            b2 = b2+alpha*(ytrain[i]-prediction)*prediction*(1-prediction)*x2[i]\n",
    "        epoch = epoch-1\n",
    "        print(b0)\n",
    "        print(b1)\n",
    "        print(b2)\n"
   ]
  },
  {
   "cell_type": "code",
   "execution_count": null,
   "id": "american-notice",
   "metadata": {},
   "outputs": [],
   "source": [
    "final_predict = []\n",
    "x3 = xtest[:,0]\n",
    "x4 = xtest[:,1]\n",
    "print(ytest)\n",
    "y_pred = [0]*len(xtest)\n",
    "for i in range(len(xtest)):\n",
    "    y_pred[i] = np.round(1/(1+np.exp(-(b0+b1*x3[i]+b2*x4[i]))))\n"
   ]
  },
  {
   "cell_type": "code",
   "execution_count": null,
   "id": "municipal-comparison",
   "metadata": {},
   "outputs": [],
   "source": [
    "final_predict.append(np.ceil(y_pred[i]))\n",
    "\n",
    "print(final_predict)\n",
    "print(\"Accuracy\",accuracy_score(ytest,y_pred))"
   ]
  },
  {
   "cell_type": "code",
   "execution_count": null,
   "id": "upset-ireland",
   "metadata": {},
   "outputs": [],
   "source": []
  }
 ],
 "metadata": {
  "kernelspec": {
   "display_name": "Python 3",
   "language": "python",
   "name": "python3"
  },
  "language_info": {
   "codemirror_mode": {
    "name": "ipython",
    "version": 3
   },
   "file_extension": ".py",
   "mimetype": "text/x-python",
   "name": "python",
   "nbconvert_exporter": "python",
   "pygments_lexer": "ipython3",
   "version": "3.8.5"
  }
 },
 "nbformat": 4,
 "nbformat_minor": 5
}
