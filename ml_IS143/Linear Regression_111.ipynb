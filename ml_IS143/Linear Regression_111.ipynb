{
 "cells": [
  {
   "cell_type": "code",
   "execution_count": 1,
   "id": "0f02f29f",
   "metadata": {},
   "outputs": [],
   "source": [
    "import pandas as pd"
   ]
  },
  {
   "cell_type": "code",
   "execution_count": 2,
   "id": "7c326861",
   "metadata": {},
   "outputs": [],
   "source": [
    "data = pd.read_csv(\"Food-Truck(For Linear Regression Program) (1).csv\", header = None)\n",
    "# data1 = pd.read_csv(\"Food-Truck(For Linear Regression Program) (1).csv\", header = None)"
   ]
  },
  {
   "cell_type": "code",
   "execution_count": 3,
   "id": "9e0874b3",
   "metadata": {},
   "outputs": [
    {
     "data": {
      "text/html": [
       "<div>\n",
       "<style scoped>\n",
       "    .dataframe tbody tr th:only-of-type {\n",
       "        vertical-align: middle;\n",
       "    }\n",
       "\n",
       "    .dataframe tbody tr th {\n",
       "        vertical-align: top;\n",
       "    }\n",
       "\n",
       "    .dataframe thead th {\n",
       "        text-align: right;\n",
       "    }\n",
       "</style>\n",
       "<table border=\"1\" class=\"dataframe\">\n",
       "  <thead>\n",
       "    <tr style=\"text-align: right;\">\n",
       "      <th></th>\n",
       "      <th>0</th>\n",
       "      <th>1</th>\n",
       "    </tr>\n",
       "  </thead>\n",
       "  <tbody>\n",
       "    <tr>\n",
       "      <th>0</th>\n",
       "      <td>6.1101</td>\n",
       "      <td>17.59200</td>\n",
       "    </tr>\n",
       "    <tr>\n",
       "      <th>1</th>\n",
       "      <td>5.5277</td>\n",
       "      <td>9.13020</td>\n",
       "    </tr>\n",
       "    <tr>\n",
       "      <th>2</th>\n",
       "      <td>8.5186</td>\n",
       "      <td>13.66200</td>\n",
       "    </tr>\n",
       "    <tr>\n",
       "      <th>3</th>\n",
       "      <td>7.0032</td>\n",
       "      <td>11.85400</td>\n",
       "    </tr>\n",
       "    <tr>\n",
       "      <th>4</th>\n",
       "      <td>5.8598</td>\n",
       "      <td>6.82330</td>\n",
       "    </tr>\n",
       "    <tr>\n",
       "      <th>...</th>\n",
       "      <td>...</td>\n",
       "      <td>...</td>\n",
       "    </tr>\n",
       "    <tr>\n",
       "      <th>92</th>\n",
       "      <td>5.8707</td>\n",
       "      <td>7.20290</td>\n",
       "    </tr>\n",
       "    <tr>\n",
       "      <th>93</th>\n",
       "      <td>5.3054</td>\n",
       "      <td>1.98690</td>\n",
       "    </tr>\n",
       "    <tr>\n",
       "      <th>94</th>\n",
       "      <td>8.2934</td>\n",
       "      <td>0.14454</td>\n",
       "    </tr>\n",
       "    <tr>\n",
       "      <th>95</th>\n",
       "      <td>13.3940</td>\n",
       "      <td>9.05510</td>\n",
       "    </tr>\n",
       "    <tr>\n",
       "      <th>96</th>\n",
       "      <td>5.4369</td>\n",
       "      <td>0.61705</td>\n",
       "    </tr>\n",
       "  </tbody>\n",
       "</table>\n",
       "<p>97 rows × 2 columns</p>\n",
       "</div>"
      ],
      "text/plain": [
       "          0         1\n",
       "0    6.1101  17.59200\n",
       "1    5.5277   9.13020\n",
       "2    8.5186  13.66200\n",
       "3    7.0032  11.85400\n",
       "4    5.8598   6.82330\n",
       "..      ...       ...\n",
       "92   5.8707   7.20290\n",
       "93   5.3054   1.98690\n",
       "94   8.2934   0.14454\n",
       "95  13.3940   9.05510\n",
       "96   5.4369   0.61705\n",
       "\n",
       "[97 rows x 2 columns]"
      ]
     },
     "execution_count": 3,
     "metadata": {},
     "output_type": "execute_result"
    }
   ],
   "source": [
    "data"
   ]
  },
  {
   "cell_type": "code",
   "execution_count": 4,
   "id": "839dd2f4",
   "metadata": {},
   "outputs": [],
   "source": [
    "import matplotlib.pyplot as mt"
   ]
  },
  {
   "cell_type": "code",
   "execution_count": 5,
   "id": "8c73841b",
   "metadata": {},
   "outputs": [
    {
     "data": {
      "image/png": "[encoded data removed]",
      "text/plain": [
       "<Figure size 432x288 with 1 Axes>"
      ]
     },
     "metadata": {
      "needs_background": "light"
     },
     "output_type": "display_data"
    }
   ],
   "source": [
    "data.plot(x=0,y=1, style='o')\n",
    "mt.show()"
   ]
  },
  {
   "cell_type": "code",
   "execution_count": 6,
   "id": "bdfd2fea",
   "metadata": {},
   "outputs": [],
   "source": [
    "import numpy as np\n",
    "import math"
   ]
  },
  {
   "cell_type": "code",
   "execution_count": 7,
   "id": "c262794b",
   "metadata": {},
   "outputs": [],
   "source": [
    "xmean=data[0].mean()"
   ]
  },
  {
   "cell_type": "code",
   "execution_count": 8,
   "id": "65cd60fc",
   "metadata": {},
   "outputs": [
    {
     "data": {
      "text/plain": [
       "8.159800000000002"
      ]
     },
     "execution_count": 8,
     "metadata": {},
     "output_type": "execute_result"
    }
   ],
   "source": [
    "xmean"
   ]
  },
  {
   "cell_type": "markdown",
   "id": "ba9b26b7",
   "metadata": {},
   "source": [
    "ymean"
   ]
  },
  {
   "cell_type": "code",
   "execution_count": 9,
   "id": "3ac51276",
   "metadata": {},
   "outputs": [
    {
     "data": {
      "text/plain": [
       "5.83913505154639"
      ]
     },
     "execution_count": 9,
     "metadata": {},
     "output_type": "execute_result"
    }
   ],
   "source": [
    "ymean=data[1].mean()\n",
    "ymean"
   ]
  },
  {
   "cell_type": "code",
   "execution_count": 10,
   "id": "bb84d4c9",
   "metadata": {},
   "outputs": [],
   "source": [
    "data['x']=data[0]-xmean"
   ]
  },
  {
   "cell_type": "code",
   "execution_count": 11,
   "id": "82c17937",
   "metadata": {},
   "outputs": [
    {
     "data": {
      "text/html": [
       "<div>\n",
       "<style scoped>\n",
       "    .dataframe tbody tr th:only-of-type {\n",
       "        vertical-align: middle;\n",
       "    }\n",
       "\n",
       "    .dataframe tbody tr th {\n",
       "        vertical-align: top;\n",
       "    }\n",
       "\n",
       "    .dataframe thead th {\n",
       "        text-align: right;\n",
       "    }\n",
       "</style>\n",
       "<table border=\"1\" class=\"dataframe\">\n",
       "  <thead>\n",
       "    <tr style=\"text-align: right;\">\n",
       "      <th></th>\n",
       "      <th>0</th>\n",
       "      <th>1</th>\n",
       "      <th>x</th>\n",
       "    </tr>\n",
       "  </thead>\n",
       "  <tbody>\n",
       "    <tr>\n",
       "      <th>0</th>\n",
       "      <td>6.1101</td>\n",
       "      <td>17.59200</td>\n",
       "      <td>-2.0497</td>\n",
       "    </tr>\n",
       "    <tr>\n",
       "      <th>1</th>\n",
       "      <td>5.5277</td>\n",
       "      <td>9.13020</td>\n",
       "      <td>-2.6321</td>\n",
       "    </tr>\n",
       "    <tr>\n",
       "      <th>2</th>\n",
       "      <td>8.5186</td>\n",
       "      <td>13.66200</td>\n",
       "      <td>0.3588</td>\n",
       "    </tr>\n",
       "    <tr>\n",
       "      <th>3</th>\n",
       "      <td>7.0032</td>\n",
       "      <td>11.85400</td>\n",
       "      <td>-1.1566</td>\n",
       "    </tr>\n",
       "    <tr>\n",
       "      <th>4</th>\n",
       "      <td>5.8598</td>\n",
       "      <td>6.82330</td>\n",
       "      <td>-2.3000</td>\n",
       "    </tr>\n",
       "    <tr>\n",
       "      <th>...</th>\n",
       "      <td>...</td>\n",
       "      <td>...</td>\n",
       "      <td>...</td>\n",
       "    </tr>\n",
       "    <tr>\n",
       "      <th>92</th>\n",
       "      <td>5.8707</td>\n",
       "      <td>7.20290</td>\n",
       "      <td>-2.2891</td>\n",
       "    </tr>\n",
       "    <tr>\n",
       "      <th>93</th>\n",
       "      <td>5.3054</td>\n",
       "      <td>1.98690</td>\n",
       "      <td>-2.8544</td>\n",
       "    </tr>\n",
       "    <tr>\n",
       "      <th>94</th>\n",
       "      <td>8.2934</td>\n",
       "      <td>0.14454</td>\n",
       "      <td>0.1336</td>\n",
       "    </tr>\n",
       "    <tr>\n",
       "      <th>95</th>\n",
       "      <td>13.3940</td>\n",
       "      <td>9.05510</td>\n",
       "      <td>5.2342</td>\n",
       "    </tr>\n",
       "    <tr>\n",
       "      <th>96</th>\n",
       "      <td>5.4369</td>\n",
       "      <td>0.61705</td>\n",
       "      <td>-2.7229</td>\n",
       "    </tr>\n",
       "  </tbody>\n",
       "</table>\n",
       "<p>97 rows × 3 columns</p>\n",
       "</div>"
      ],
      "text/plain": [
       "          0         1       x\n",
       "0    6.1101  17.59200 -2.0497\n",
       "1    5.5277   9.13020 -2.6321\n",
       "2    8.5186  13.66200  0.3588\n",
       "3    7.0032  11.85400 -1.1566\n",
       "4    5.8598   6.82330 -2.3000\n",
       "..      ...       ...     ...\n",
       "92   5.8707   7.20290 -2.2891\n",
       "93   5.3054   1.98690 -2.8544\n",
       "94   8.2934   0.14454  0.1336\n",
       "95  13.3940   9.05510  5.2342\n",
       "96   5.4369   0.61705 -2.7229\n",
       "\n",
       "[97 rows x 3 columns]"
      ]
     },
     "execution_count": 11,
     "metadata": {},
     "output_type": "execute_result"
    }
   ],
   "source": [
    "data"
   ]
  },
  {
   "cell_type": "code",
   "execution_count": 12,
   "id": "cae54553",
   "metadata": {},
   "outputs": [],
   "source": [
    "data['y']=data[1]-ymean"
   ]
  },
  {
   "cell_type": "code",
   "execution_count": 13,
   "id": "f12f66de",
   "metadata": {},
   "outputs": [
    {
     "data": {
      "text/html": [
       "<div>\n",
       "<style scoped>\n",
       "    .dataframe tbody tr th:only-of-type {\n",
       "        vertical-align: middle;\n",
       "    }\n",
       "\n",
       "    .dataframe tbody tr th {\n",
       "        vertical-align: top;\n",
       "    }\n",
       "\n",
       "    .dataframe thead th {\n",
       "        text-align: right;\n",
       "    }\n",
       "</style>\n",
       "<table border=\"1\" class=\"dataframe\">\n",
       "  <thead>\n",
       "    <tr style=\"text-align: right;\">\n",
       "      <th></th>\n",
       "      <th>0</th>\n",
       "      <th>1</th>\n",
       "      <th>x</th>\n",
       "      <th>y</th>\n",
       "    </tr>\n",
       "  </thead>\n",
       "  <tbody>\n",
       "    <tr>\n",
       "      <th>0</th>\n",
       "      <td>6.1101</td>\n",
       "      <td>17.59200</td>\n",
       "      <td>-2.0497</td>\n",
       "      <td>11.752865</td>\n",
       "    </tr>\n",
       "    <tr>\n",
       "      <th>1</th>\n",
       "      <td>5.5277</td>\n",
       "      <td>9.13020</td>\n",
       "      <td>-2.6321</td>\n",
       "      <td>3.291065</td>\n",
       "    </tr>\n",
       "    <tr>\n",
       "      <th>2</th>\n",
       "      <td>8.5186</td>\n",
       "      <td>13.66200</td>\n",
       "      <td>0.3588</td>\n",
       "      <td>7.822865</td>\n",
       "    </tr>\n",
       "    <tr>\n",
       "      <th>3</th>\n",
       "      <td>7.0032</td>\n",
       "      <td>11.85400</td>\n",
       "      <td>-1.1566</td>\n",
       "      <td>6.014865</td>\n",
       "    </tr>\n",
       "    <tr>\n",
       "      <th>4</th>\n",
       "      <td>5.8598</td>\n",
       "      <td>6.82330</td>\n",
       "      <td>-2.3000</td>\n",
       "      <td>0.984165</td>\n",
       "    </tr>\n",
       "    <tr>\n",
       "      <th>...</th>\n",
       "      <td>...</td>\n",
       "      <td>...</td>\n",
       "      <td>...</td>\n",
       "      <td>...</td>\n",
       "    </tr>\n",
       "    <tr>\n",
       "      <th>92</th>\n",
       "      <td>5.8707</td>\n",
       "      <td>7.20290</td>\n",
       "      <td>-2.2891</td>\n",
       "      <td>1.363765</td>\n",
       "    </tr>\n",
       "    <tr>\n",
       "      <th>93</th>\n",
       "      <td>5.3054</td>\n",
       "      <td>1.98690</td>\n",
       "      <td>-2.8544</td>\n",
       "      <td>-3.852235</td>\n",
       "    </tr>\n",
       "    <tr>\n",
       "      <th>94</th>\n",
       "      <td>8.2934</td>\n",
       "      <td>0.14454</td>\n",
       "      <td>0.1336</td>\n",
       "      <td>-5.694595</td>\n",
       "    </tr>\n",
       "    <tr>\n",
       "      <th>95</th>\n",
       "      <td>13.3940</td>\n",
       "      <td>9.05510</td>\n",
       "      <td>5.2342</td>\n",
       "      <td>3.215965</td>\n",
       "    </tr>\n",
       "    <tr>\n",
       "      <th>96</th>\n",
       "      <td>5.4369</td>\n",
       "      <td>0.61705</td>\n",
       "      <td>-2.7229</td>\n",
       "      <td>-5.222085</td>\n",
       "    </tr>\n",
       "  </tbody>\n",
       "</table>\n",
       "<p>97 rows × 4 columns</p>\n",
       "</div>"
      ],
      "text/plain": [
       "          0         1       x          y\n",
       "0    6.1101  17.59200 -2.0497  11.752865\n",
       "1    5.5277   9.13020 -2.6321   3.291065\n",
       "2    8.5186  13.66200  0.3588   7.822865\n",
       "3    7.0032  11.85400 -1.1566   6.014865\n",
       "4    5.8598   6.82330 -2.3000   0.984165\n",
       "..      ...       ...     ...        ...\n",
       "92   5.8707   7.20290 -2.2891   1.363765\n",
       "93   5.3054   1.98690 -2.8544  -3.852235\n",
       "94   8.2934   0.14454  0.1336  -5.694595\n",
       "95  13.3940   9.05510  5.2342   3.215965\n",
       "96   5.4369   0.61705 -2.7229  -5.222085\n",
       "\n",
       "[97 rows x 4 columns]"
      ]
     },
     "execution_count": 13,
     "metadata": {},
     "output_type": "execute_result"
    }
   ],
   "source": [
    "data"
   ]
  },
  {
   "cell_type": "code",
   "execution_count": 14,
   "id": "bc124e9e",
   "metadata": {},
   "outputs": [
    {
     "data": {
      "text/html": [
       "<div>\n",
       "<style scoped>\n",
       "    .dataframe tbody tr th:only-of-type {\n",
       "        vertical-align: middle;\n",
       "    }\n",
       "\n",
       "    .dataframe tbody tr th {\n",
       "        vertical-align: top;\n",
       "    }\n",
       "\n",
       "    .dataframe thead th {\n",
       "        text-align: right;\n",
       "    }\n",
       "</style>\n",
       "<table border=\"1\" class=\"dataframe\">\n",
       "  <thead>\n",
       "    <tr style=\"text-align: right;\">\n",
       "      <th></th>\n",
       "      <th>0</th>\n",
       "      <th>1</th>\n",
       "      <th>x</th>\n",
       "      <th>y</th>\n",
       "      <th>sq</th>\n",
       "    </tr>\n",
       "  </thead>\n",
       "  <tbody>\n",
       "    <tr>\n",
       "      <th>0</th>\n",
       "      <td>6.1101</td>\n",
       "      <td>17.59200</td>\n",
       "      <td>-2.0497</td>\n",
       "      <td>11.752865</td>\n",
       "      <td>4.201270</td>\n",
       "    </tr>\n",
       "    <tr>\n",
       "      <th>1</th>\n",
       "      <td>5.5277</td>\n",
       "      <td>9.13020</td>\n",
       "      <td>-2.6321</td>\n",
       "      <td>3.291065</td>\n",
       "      <td>6.927950</td>\n",
       "    </tr>\n",
       "    <tr>\n",
       "      <th>2</th>\n",
       "      <td>8.5186</td>\n",
       "      <td>13.66200</td>\n",
       "      <td>0.3588</td>\n",
       "      <td>7.822865</td>\n",
       "      <td>0.128737</td>\n",
       "    </tr>\n",
       "    <tr>\n",
       "      <th>3</th>\n",
       "      <td>7.0032</td>\n",
       "      <td>11.85400</td>\n",
       "      <td>-1.1566</td>\n",
       "      <td>6.014865</td>\n",
       "      <td>1.337724</td>\n",
       "    </tr>\n",
       "    <tr>\n",
       "      <th>4</th>\n",
       "      <td>5.8598</td>\n",
       "      <td>6.82330</td>\n",
       "      <td>-2.3000</td>\n",
       "      <td>0.984165</td>\n",
       "      <td>5.290000</td>\n",
       "    </tr>\n",
       "    <tr>\n",
       "      <th>...</th>\n",
       "      <td>...</td>\n",
       "      <td>...</td>\n",
       "      <td>...</td>\n",
       "      <td>...</td>\n",
       "      <td>...</td>\n",
       "    </tr>\n",
       "    <tr>\n",
       "      <th>92</th>\n",
       "      <td>5.8707</td>\n",
       "      <td>7.20290</td>\n",
       "      <td>-2.2891</td>\n",
       "      <td>1.363765</td>\n",
       "      <td>5.239979</td>\n",
       "    </tr>\n",
       "    <tr>\n",
       "      <th>93</th>\n",
       "      <td>5.3054</td>\n",
       "      <td>1.98690</td>\n",
       "      <td>-2.8544</td>\n",
       "      <td>-3.852235</td>\n",
       "      <td>8.147599</td>\n",
       "    </tr>\n",
       "    <tr>\n",
       "      <th>94</th>\n",
       "      <td>8.2934</td>\n",
       "      <td>0.14454</td>\n",
       "      <td>0.1336</td>\n",
       "      <td>-5.694595</td>\n",
       "      <td>0.017849</td>\n",
       "    </tr>\n",
       "    <tr>\n",
       "      <th>95</th>\n",
       "      <td>13.3940</td>\n",
       "      <td>9.05510</td>\n",
       "      <td>5.2342</td>\n",
       "      <td>3.215965</td>\n",
       "      <td>27.396850</td>\n",
       "    </tr>\n",
       "    <tr>\n",
       "      <th>96</th>\n",
       "      <td>5.4369</td>\n",
       "      <td>0.61705</td>\n",
       "      <td>-2.7229</td>\n",
       "      <td>-5.222085</td>\n",
       "      <td>7.414184</td>\n",
       "    </tr>\n",
       "  </tbody>\n",
       "</table>\n",
       "<p>97 rows × 5 columns</p>\n",
       "</div>"
      ],
      "text/plain": [
       "          0         1       x          y         sq\n",
       "0    6.1101  17.59200 -2.0497  11.752865   4.201270\n",
       "1    5.5277   9.13020 -2.6321   3.291065   6.927950\n",
       "2    8.5186  13.66200  0.3588   7.822865   0.128737\n",
       "3    7.0032  11.85400 -1.1566   6.014865   1.337724\n",
       "4    5.8598   6.82330 -2.3000   0.984165   5.290000\n",
       "..      ...       ...     ...        ...        ...\n",
       "92   5.8707   7.20290 -2.2891   1.363765   5.239979\n",
       "93   5.3054   1.98690 -2.8544  -3.852235   8.147599\n",
       "94   8.2934   0.14454  0.1336  -5.694595   0.017849\n",
       "95  13.3940   9.05510  5.2342   3.215965  27.396850\n",
       "96   5.4369   0.61705 -2.7229  -5.222085   7.414184\n",
       "\n",
       "[97 rows x 5 columns]"
      ]
     },
     "execution_count": 14,
     "metadata": {},
     "output_type": "execute_result"
    }
   ],
   "source": [
    "data['sq']=(data['x'])**2\n",
    "data"
   ]
  },
  {
   "cell_type": "code",
   "execution_count": 15,
   "id": "0f24fa87",
   "metadata": {},
   "outputs": [],
   "source": [
    "data['xy']=data['x']*data['y']"
   ]
  },
  {
   "cell_type": "code",
   "execution_count": 16,
   "id": "fbc72d3e",
   "metadata": {},
   "outputs": [
    {
     "data": {
      "text/html": [
       "<div>\n",
       "<style scoped>\n",
       "    .dataframe tbody tr th:only-of-type {\n",
       "        vertical-align: middle;\n",
       "    }\n",
       "\n",
       "    .dataframe tbody tr th {\n",
       "        vertical-align: top;\n",
       "    }\n",
       "\n",
       "    .dataframe thead th {\n",
       "        text-align: right;\n",
       "    }\n",
       "</style>\n",
       "<table border=\"1\" class=\"dataframe\">\n",
       "  <thead>\n",
       "    <tr style=\"text-align: right;\">\n",
       "      <th></th>\n",
       "      <th>0</th>\n",
       "      <th>1</th>\n",
       "      <th>x</th>\n",
       "      <th>y</th>\n",
       "      <th>sq</th>\n",
       "      <th>xy</th>\n",
       "    </tr>\n",
       "  </thead>\n",
       "  <tbody>\n",
       "    <tr>\n",
       "      <th>0</th>\n",
       "      <td>6.1101</td>\n",
       "      <td>17.59200</td>\n",
       "      <td>-2.0497</td>\n",
       "      <td>11.752865</td>\n",
       "      <td>4.201270</td>\n",
       "      <td>-24.089847</td>\n",
       "    </tr>\n",
       "    <tr>\n",
       "      <th>1</th>\n",
       "      <td>5.5277</td>\n",
       "      <td>9.13020</td>\n",
       "      <td>-2.6321</td>\n",
       "      <td>3.291065</td>\n",
       "      <td>6.927950</td>\n",
       "      <td>-8.662412</td>\n",
       "    </tr>\n",
       "    <tr>\n",
       "      <th>2</th>\n",
       "      <td>8.5186</td>\n",
       "      <td>13.66200</td>\n",
       "      <td>0.3588</td>\n",
       "      <td>7.822865</td>\n",
       "      <td>0.128737</td>\n",
       "      <td>2.806844</td>\n",
       "    </tr>\n",
       "    <tr>\n",
       "      <th>3</th>\n",
       "      <td>7.0032</td>\n",
       "      <td>11.85400</td>\n",
       "      <td>-1.1566</td>\n",
       "      <td>6.014865</td>\n",
       "      <td>1.337724</td>\n",
       "      <td>-6.956793</td>\n",
       "    </tr>\n",
       "    <tr>\n",
       "      <th>4</th>\n",
       "      <td>5.8598</td>\n",
       "      <td>6.82330</td>\n",
       "      <td>-2.3000</td>\n",
       "      <td>0.984165</td>\n",
       "      <td>5.290000</td>\n",
       "      <td>-2.263579</td>\n",
       "    </tr>\n",
       "    <tr>\n",
       "      <th>...</th>\n",
       "      <td>...</td>\n",
       "      <td>...</td>\n",
       "      <td>...</td>\n",
       "      <td>...</td>\n",
       "      <td>...</td>\n",
       "      <td>...</td>\n",
       "    </tr>\n",
       "    <tr>\n",
       "      <th>92</th>\n",
       "      <td>5.8707</td>\n",
       "      <td>7.20290</td>\n",
       "      <td>-2.2891</td>\n",
       "      <td>1.363765</td>\n",
       "      <td>5.239979</td>\n",
       "      <td>-3.121794</td>\n",
       "    </tr>\n",
       "    <tr>\n",
       "      <th>93</th>\n",
       "      <td>5.3054</td>\n",
       "      <td>1.98690</td>\n",
       "      <td>-2.8544</td>\n",
       "      <td>-3.852235</td>\n",
       "      <td>8.147599</td>\n",
       "      <td>10.995820</td>\n",
       "    </tr>\n",
       "    <tr>\n",
       "      <th>94</th>\n",
       "      <td>8.2934</td>\n",
       "      <td>0.14454</td>\n",
       "      <td>0.1336</td>\n",
       "      <td>-5.694595</td>\n",
       "      <td>0.017849</td>\n",
       "      <td>-0.760798</td>\n",
       "    </tr>\n",
       "    <tr>\n",
       "      <th>95</th>\n",
       "      <td>13.3940</td>\n",
       "      <td>9.05510</td>\n",
       "      <td>5.2342</td>\n",
       "      <td>3.215965</td>\n",
       "      <td>27.396850</td>\n",
       "      <td>16.833004</td>\n",
       "    </tr>\n",
       "    <tr>\n",
       "      <th>96</th>\n",
       "      <td>5.4369</td>\n",
       "      <td>0.61705</td>\n",
       "      <td>-2.7229</td>\n",
       "      <td>-5.222085</td>\n",
       "      <td>7.414184</td>\n",
       "      <td>14.219215</td>\n",
       "    </tr>\n",
       "  </tbody>\n",
       "</table>\n",
       "<p>97 rows × 6 columns</p>\n",
       "</div>"
      ],
      "text/plain": [
       "          0         1       x          y         sq         xy\n",
       "0    6.1101  17.59200 -2.0497  11.752865   4.201270 -24.089847\n",
       "1    5.5277   9.13020 -2.6321   3.291065   6.927950  -8.662412\n",
       "2    8.5186  13.66200  0.3588   7.822865   0.128737   2.806844\n",
       "3    7.0032  11.85400 -1.1566   6.014865   1.337724  -6.956793\n",
       "4    5.8598   6.82330 -2.3000   0.984165   5.290000  -2.263579\n",
       "..      ...       ...     ...        ...        ...        ...\n",
       "92   5.8707   7.20290 -2.2891   1.363765   5.239979  -3.121794\n",
       "93   5.3054   1.98690 -2.8544  -3.852235   8.147599  10.995820\n",
       "94   8.2934   0.14454  0.1336  -5.694595   0.017849  -0.760798\n",
       "95  13.3940   9.05510  5.2342   3.215965  27.396850  16.833004\n",
       "96   5.4369   0.61705 -2.7229  -5.222085   7.414184  14.219215\n",
       "\n",
       "[97 rows x 6 columns]"
      ]
     },
     "execution_count": 16,
     "metadata": {},
     "output_type": "execute_result"
    }
   ],
   "source": [
    "data"
   ]
  },
  {
   "cell_type": "code",
   "execution_count": 17,
   "id": "cfa41d59",
   "metadata": {},
   "outputs": [],
   "source": [
    "sum1 = data['xy'].sum()"
   ]
  },
  {
   "cell_type": "code",
   "execution_count": 18,
   "id": "4e76385e",
   "metadata": {},
   "outputs": [],
   "source": [
    "sum2 = data['sq'].sum()"
   ]
  },
  {
   "cell_type": "code",
   "execution_count": 19,
   "id": "f7ed5b92",
   "metadata": {},
   "outputs": [
    {
     "data": {
      "text/plain": [
       "1715.219528539"
      ]
     },
     "execution_count": 19,
     "metadata": {},
     "output_type": "execute_result"
    }
   ],
   "source": [
    "sum1"
   ]
  },
  {
   "cell_type": "code",
   "execution_count": 20,
   "id": "59922b2c",
   "metadata": {},
   "outputs": [
    {
     "data": {
      "text/plain": [
       "1437.6958578600002"
      ]
     },
     "execution_count": 20,
     "metadata": {},
     "output_type": "execute_result"
    }
   ],
   "source": [
    "sum2"
   ]
  },
  {
   "cell_type": "code",
   "execution_count": 21,
   "id": "f01a4942",
   "metadata": {},
   "outputs": [],
   "source": [
    "m=sum1/sum2"
   ]
  },
  {
   "cell_type": "code",
   "execution_count": 22,
   "id": "e9ce47f9",
   "metadata": {},
   "outputs": [
    {
     "data": {
      "text/plain": [
       "1.1930336441895937"
      ]
     },
     "execution_count": 22,
     "metadata": {},
     "output_type": "execute_result"
    }
   ],
   "source": [
    "m"
   ]
  },
  {
   "cell_type": "code",
   "execution_count": 23,
   "id": "aa6902a0",
   "metadata": {},
   "outputs": [],
   "source": [
    "c=ymean-(m*xmean)"
   ]
  },
  {
   "cell_type": "code",
   "execution_count": 24,
   "id": "fb24d768",
   "metadata": {},
   "outputs": [
    {
     "data": {
      "text/plain": [
       "-3.89578087831186"
      ]
     },
     "execution_count": 24,
     "metadata": {},
     "output_type": "execute_result"
    }
   ],
   "source": [
    "c"
   ]
  },
  {
   "cell_type": "code",
   "execution_count": 25,
   "id": "c919e504",
   "metadata": {},
   "outputs": [],
   "source": [
    "data['ypredicted']=data[0]*m+c"
   ]
  },
  {
   "cell_type": "code",
   "execution_count": 26,
   "id": "70732ab1",
   "metadata": {},
   "outputs": [
    {
     "data": {
      "text/html": [
       "<div>\n",
       "<style scoped>\n",
       "    .dataframe tbody tr th:only-of-type {\n",
       "        vertical-align: middle;\n",
       "    }\n",
       "\n",
       "    .dataframe tbody tr th {\n",
       "        vertical-align: top;\n",
       "    }\n",
       "\n",
       "    .dataframe thead th {\n",
       "        text-align: right;\n",
       "    }\n",
       "</style>\n",
       "<table border=\"1\" class=\"dataframe\">\n",
       "  <thead>\n",
       "    <tr style=\"text-align: right;\">\n",
       "      <th></th>\n",
       "      <th>0</th>\n",
       "      <th>1</th>\n",
       "      <th>x</th>\n",
       "      <th>y</th>\n",
       "      <th>sq</th>\n",
       "      <th>xy</th>\n",
       "      <th>ypredicted</th>\n",
       "    </tr>\n",
       "  </thead>\n",
       "  <tbody>\n",
       "    <tr>\n",
       "      <th>0</th>\n",
       "      <td>6.1101</td>\n",
       "      <td>17.59200</td>\n",
       "      <td>-2.0497</td>\n",
       "      <td>11.752865</td>\n",
       "      <td>4.201270</td>\n",
       "      <td>-24.089847</td>\n",
       "      <td>3.393774</td>\n",
       "    </tr>\n",
       "    <tr>\n",
       "      <th>1</th>\n",
       "      <td>5.5277</td>\n",
       "      <td>9.13020</td>\n",
       "      <td>-2.6321</td>\n",
       "      <td>3.291065</td>\n",
       "      <td>6.927950</td>\n",
       "      <td>-8.662412</td>\n",
       "      <td>2.698951</td>\n",
       "    </tr>\n",
       "    <tr>\n",
       "      <th>2</th>\n",
       "      <td>8.5186</td>\n",
       "      <td>13.66200</td>\n",
       "      <td>0.3588</td>\n",
       "      <td>7.822865</td>\n",
       "      <td>0.128737</td>\n",
       "      <td>2.806844</td>\n",
       "      <td>6.267196</td>\n",
       "    </tr>\n",
       "    <tr>\n",
       "      <th>3</th>\n",
       "      <td>7.0032</td>\n",
       "      <td>11.85400</td>\n",
       "      <td>-1.1566</td>\n",
       "      <td>6.014865</td>\n",
       "      <td>1.337724</td>\n",
       "      <td>-6.956793</td>\n",
       "      <td>4.459272</td>\n",
       "    </tr>\n",
       "    <tr>\n",
       "      <th>4</th>\n",
       "      <td>5.8598</td>\n",
       "      <td>6.82330</td>\n",
       "      <td>-2.3000</td>\n",
       "      <td>0.984165</td>\n",
       "      <td>5.290000</td>\n",
       "      <td>-2.263579</td>\n",
       "      <td>3.095158</td>\n",
       "    </tr>\n",
       "    <tr>\n",
       "      <th>...</th>\n",
       "      <td>...</td>\n",
       "      <td>...</td>\n",
       "      <td>...</td>\n",
       "      <td>...</td>\n",
       "      <td>...</td>\n",
       "      <td>...</td>\n",
       "      <td>...</td>\n",
       "    </tr>\n",
       "    <tr>\n",
       "      <th>92</th>\n",
       "      <td>5.8707</td>\n",
       "      <td>7.20290</td>\n",
       "      <td>-2.2891</td>\n",
       "      <td>1.363765</td>\n",
       "      <td>5.239979</td>\n",
       "      <td>-3.121794</td>\n",
       "      <td>3.108162</td>\n",
       "    </tr>\n",
       "    <tr>\n",
       "      <th>93</th>\n",
       "      <td>5.3054</td>\n",
       "      <td>1.98690</td>\n",
       "      <td>-2.8544</td>\n",
       "      <td>-3.852235</td>\n",
       "      <td>8.147599</td>\n",
       "      <td>10.995820</td>\n",
       "      <td>2.433740</td>\n",
       "    </tr>\n",
       "    <tr>\n",
       "      <th>94</th>\n",
       "      <td>8.2934</td>\n",
       "      <td>0.14454</td>\n",
       "      <td>0.1336</td>\n",
       "      <td>-5.694595</td>\n",
       "      <td>0.017849</td>\n",
       "      <td>-0.760798</td>\n",
       "      <td>5.998524</td>\n",
       "    </tr>\n",
       "    <tr>\n",
       "      <th>95</th>\n",
       "      <td>13.3940</td>\n",
       "      <td>9.05510</td>\n",
       "      <td>5.2342</td>\n",
       "      <td>3.215965</td>\n",
       "      <td>27.396850</td>\n",
       "      <td>16.833004</td>\n",
       "      <td>12.083712</td>\n",
       "    </tr>\n",
       "    <tr>\n",
       "      <th>96</th>\n",
       "      <td>5.4369</td>\n",
       "      <td>0.61705</td>\n",
       "      <td>-2.7229</td>\n",
       "      <td>-5.222085</td>\n",
       "      <td>7.414184</td>\n",
       "      <td>14.219215</td>\n",
       "      <td>2.590624</td>\n",
       "    </tr>\n",
       "  </tbody>\n",
       "</table>\n",
       "<p>97 rows × 7 columns</p>\n",
       "</div>"
      ],
      "text/plain": [
       "          0         1       x          y         sq         xy  ypredicted\n",
       "0    6.1101  17.59200 -2.0497  11.752865   4.201270 -24.089847    3.393774\n",
       "1    5.5277   9.13020 -2.6321   3.291065   6.927950  -8.662412    2.698951\n",
       "2    8.5186  13.66200  0.3588   7.822865   0.128737   2.806844    6.267196\n",
       "3    7.0032  11.85400 -1.1566   6.014865   1.337724  -6.956793    4.459272\n",
       "4    5.8598   6.82330 -2.3000   0.984165   5.290000  -2.263579    3.095158\n",
       "..      ...       ...     ...        ...        ...        ...         ...\n",
       "92   5.8707   7.20290 -2.2891   1.363765   5.239979  -3.121794    3.108162\n",
       "93   5.3054   1.98690 -2.8544  -3.852235   8.147599  10.995820    2.433740\n",
       "94   8.2934   0.14454  0.1336  -5.694595   0.017849  -0.760798    5.998524\n",
       "95  13.3940   9.05510  5.2342   3.215965  27.396850  16.833004   12.083712\n",
       "96   5.4369   0.61705 -2.7229  -5.222085   7.414184  14.219215    2.590624\n",
       "\n",
       "[97 rows x 7 columns]"
      ]
     },
     "execution_count": 26,
     "metadata": {},
     "output_type": "execute_result"
    }
   ],
   "source": [
    "data"
   ]
  },
  {
   "cell_type": "code",
   "execution_count": 27,
   "id": "8a6acf4d",
   "metadata": {},
   "outputs": [],
   "source": [
    "data['sqy']=(data['ypredicted']-data[1])**2"
   ]
  },
  {
   "cell_type": "code",
   "execution_count": 28,
   "id": "8ba45642",
   "metadata": {},
   "outputs": [
    {
     "data": {
      "text/html": [
       "<div>\n",
       "<style scoped>\n",
       "    .dataframe tbody tr th:only-of-type {\n",
       "        vertical-align: middle;\n",
       "    }\n",
       "\n",
       "    .dataframe tbody tr th {\n",
       "        vertical-align: top;\n",
       "    }\n",
       "\n",
       "    .dataframe thead th {\n",
       "        text-align: right;\n",
       "    }\n",
       "</style>\n",
       "<table border=\"1\" class=\"dataframe\">\n",
       "  <thead>\n",
       "    <tr style=\"text-align: right;\">\n",
       "      <th></th>\n",
       "      <th>0</th>\n",
       "      <th>1</th>\n",
       "      <th>x</th>\n",
       "      <th>y</th>\n",
       "      <th>sq</th>\n",
       "      <th>xy</th>\n",
       "      <th>ypredicted</th>\n",
       "      <th>sqy</th>\n",
       "    </tr>\n",
       "  </thead>\n",
       "  <tbody>\n",
       "    <tr>\n",
       "      <th>0</th>\n",
       "      <td>6.1101</td>\n",
       "      <td>17.59200</td>\n",
       "      <td>-2.0497</td>\n",
       "      <td>11.752865</td>\n",
       "      <td>4.201270</td>\n",
       "      <td>-24.089847</td>\n",
       "      <td>3.393774</td>\n",
       "      <td>201.589622</td>\n",
       "    </tr>\n",
       "    <tr>\n",
       "      <th>1</th>\n",
       "      <td>5.5277</td>\n",
       "      <td>9.13020</td>\n",
       "      <td>-2.6321</td>\n",
       "      <td>3.291065</td>\n",
       "      <td>6.927950</td>\n",
       "      <td>-8.662412</td>\n",
       "      <td>2.698951</td>\n",
       "      <td>41.360961</td>\n",
       "    </tr>\n",
       "    <tr>\n",
       "      <th>2</th>\n",
       "      <td>8.5186</td>\n",
       "      <td>13.66200</td>\n",
       "      <td>0.3588</td>\n",
       "      <td>7.822865</td>\n",
       "      <td>0.128737</td>\n",
       "      <td>2.806844</td>\n",
       "      <td>6.267196</td>\n",
       "      <td>54.683133</td>\n",
       "    </tr>\n",
       "    <tr>\n",
       "      <th>3</th>\n",
       "      <td>7.0032</td>\n",
       "      <td>11.85400</td>\n",
       "      <td>-1.1566</td>\n",
       "      <td>6.014865</td>\n",
       "      <td>1.337724</td>\n",
       "      <td>-6.956793</td>\n",
       "      <td>4.459272</td>\n",
       "      <td>54.681997</td>\n",
       "    </tr>\n",
       "    <tr>\n",
       "      <th>4</th>\n",
       "      <td>5.8598</td>\n",
       "      <td>6.82330</td>\n",
       "      <td>-2.3000</td>\n",
       "      <td>0.984165</td>\n",
       "      <td>5.290000</td>\n",
       "      <td>-2.263579</td>\n",
       "      <td>3.095158</td>\n",
       "      <td>13.899045</td>\n",
       "    </tr>\n",
       "    <tr>\n",
       "      <th>...</th>\n",
       "      <td>...</td>\n",
       "      <td>...</td>\n",
       "      <td>...</td>\n",
       "      <td>...</td>\n",
       "      <td>...</td>\n",
       "      <td>...</td>\n",
       "      <td>...</td>\n",
       "      <td>...</td>\n",
       "    </tr>\n",
       "    <tr>\n",
       "      <th>92</th>\n",
       "      <td>5.8707</td>\n",
       "      <td>7.20290</td>\n",
       "      <td>-2.2891</td>\n",
       "      <td>1.363765</td>\n",
       "      <td>5.239979</td>\n",
       "      <td>-3.121794</td>\n",
       "      <td>3.108162</td>\n",
       "      <td>16.766881</td>\n",
       "    </tr>\n",
       "    <tr>\n",
       "      <th>93</th>\n",
       "      <td>5.3054</td>\n",
       "      <td>1.98690</td>\n",
       "      <td>-2.8544</td>\n",
       "      <td>-3.852235</td>\n",
       "      <td>8.147599</td>\n",
       "      <td>10.995820</td>\n",
       "      <td>2.433740</td>\n",
       "      <td>0.199666</td>\n",
       "    </tr>\n",
       "    <tr>\n",
       "      <th>94</th>\n",
       "      <td>8.2934</td>\n",
       "      <td>0.14454</td>\n",
       "      <td>0.1336</td>\n",
       "      <td>-5.694595</td>\n",
       "      <td>0.017849</td>\n",
       "      <td>-0.760798</td>\n",
       "      <td>5.998524</td>\n",
       "      <td>34.269133</td>\n",
       "    </tr>\n",
       "    <tr>\n",
       "      <th>95</th>\n",
       "      <td>13.3940</td>\n",
       "      <td>9.05510</td>\n",
       "      <td>5.2342</td>\n",
       "      <td>3.215965</td>\n",
       "      <td>27.396850</td>\n",
       "      <td>16.833004</td>\n",
       "      <td>12.083712</td>\n",
       "      <td>9.172489</td>\n",
       "    </tr>\n",
       "    <tr>\n",
       "      <th>96</th>\n",
       "      <td>5.4369</td>\n",
       "      <td>0.61705</td>\n",
       "      <td>-2.7229</td>\n",
       "      <td>-5.222085</td>\n",
       "      <td>7.414184</td>\n",
       "      <td>14.219215</td>\n",
       "      <td>2.590624</td>\n",
       "      <td>3.894993</td>\n",
       "    </tr>\n",
       "  </tbody>\n",
       "</table>\n",
       "<p>97 rows × 8 columns</p>\n",
       "</div>"
      ],
      "text/plain": [
       "          0         1       x          y         sq         xy  ypredicted  \\\n",
       "0    6.1101  17.59200 -2.0497  11.752865   4.201270 -24.089847    3.393774   \n",
       "1    5.5277   9.13020 -2.6321   3.291065   6.927950  -8.662412    2.698951   \n",
       "2    8.5186  13.66200  0.3588   7.822865   0.128737   2.806844    6.267196   \n",
       "3    7.0032  11.85400 -1.1566   6.014865   1.337724  -6.956793    4.459272   \n",
       "4    5.8598   6.82330 -2.3000   0.984165   5.290000  -2.263579    3.095158   \n",
       "..      ...       ...     ...        ...        ...        ...         ...   \n",
       "92   5.8707   7.20290 -2.2891   1.363765   5.239979  -3.121794    3.108162   \n",
       "93   5.3054   1.98690 -2.8544  -3.852235   8.147599  10.995820    2.433740   \n",
       "94   8.2934   0.14454  0.1336  -5.694595   0.017849  -0.760798    5.998524   \n",
       "95  13.3940   9.05510  5.2342   3.215965  27.396850  16.833004   12.083712   \n",
       "96   5.4369   0.61705 -2.7229  -5.222085   7.414184  14.219215    2.590624   \n",
       "\n",
       "           sqy  \n",
       "0   201.589622  \n",
       "1    41.360961  \n",
       "2    54.683133  \n",
       "3    54.681997  \n",
       "4    13.899045  \n",
       "..         ...  \n",
       "92   16.766881  \n",
       "93    0.199666  \n",
       "94   34.269133  \n",
       "95    9.172489  \n",
       "96    3.894993  \n",
       "\n",
       "[97 rows x 8 columns]"
      ]
     },
     "execution_count": 28,
     "metadata": {},
     "output_type": "execute_result"
    }
   ],
   "source": [
    "data"
   ]
  },
  {
   "cell_type": "code",
   "execution_count": 29,
   "id": "cd116c2a",
   "metadata": {},
   "outputs": [],
   "source": [
    "SSE = data['sqy'].sum()"
   ]
  },
  {
   "cell_type": "code",
   "execution_count": 30,
   "id": "680a5e8e",
   "metadata": {},
   "outputs": [
    {
     "data": {
      "text/plain": [
       "868.5324469391846"
      ]
     },
     "execution_count": 30,
     "metadata": {},
     "output_type": "execute_result"
    }
   ],
   "source": [
    "SSE"
   ]
  },
  {
   "cell_type": "code",
   "execution_count": 31,
   "id": "e1241ecc",
   "metadata": {},
   "outputs": [],
   "source": [
    "MSE = SSE/len(data)"
   ]
  },
  {
   "cell_type": "code",
   "execution_count": 32,
   "id": "7b36ff9b",
   "metadata": {},
   "outputs": [
    {
     "data": {
      "text/plain": [
       "8.953942751950358"
      ]
     },
     "execution_count": 32,
     "metadata": {},
     "output_type": "execute_result"
    }
   ],
   "source": [
    "MSE"
   ]
  },
  {
   "cell_type": "code",
   "execution_count": 33,
   "id": "a55f4a88",
   "metadata": {},
   "outputs": [
    {
     "data": {
      "text/html": [
       "<div>\n",
       "<style scoped>\n",
       "    .dataframe tbody tr th:only-of-type {\n",
       "        vertical-align: middle;\n",
       "    }\n",
       "\n",
       "    .dataframe tbody tr th {\n",
       "        vertical-align: top;\n",
       "    }\n",
       "\n",
       "    .dataframe thead th {\n",
       "        text-align: right;\n",
       "    }\n",
       "</style>\n",
       "<table border=\"1\" class=\"dataframe\">\n",
       "  <thead>\n",
       "    <tr style=\"text-align: right;\">\n",
       "      <th></th>\n",
       "      <th>0</th>\n",
       "      <th>1</th>\n",
       "    </tr>\n",
       "  </thead>\n",
       "  <tbody>\n",
       "    <tr>\n",
       "      <th>0</th>\n",
       "      <td>6.1101</td>\n",
       "      <td>17.59200</td>\n",
       "    </tr>\n",
       "    <tr>\n",
       "      <th>1</th>\n",
       "      <td>5.5277</td>\n",
       "      <td>9.13020</td>\n",
       "    </tr>\n",
       "    <tr>\n",
       "      <th>2</th>\n",
       "      <td>8.5186</td>\n",
       "      <td>13.66200</td>\n",
       "    </tr>\n",
       "    <tr>\n",
       "      <th>3</th>\n",
       "      <td>7.0032</td>\n",
       "      <td>11.85400</td>\n",
       "    </tr>\n",
       "    <tr>\n",
       "      <th>4</th>\n",
       "      <td>5.8598</td>\n",
       "      <td>6.82330</td>\n",
       "    </tr>\n",
       "    <tr>\n",
       "      <th>...</th>\n",
       "      <td>...</td>\n",
       "      <td>...</td>\n",
       "    </tr>\n",
       "    <tr>\n",
       "      <th>92</th>\n",
       "      <td>5.8707</td>\n",
       "      <td>7.20290</td>\n",
       "    </tr>\n",
       "    <tr>\n",
       "      <th>93</th>\n",
       "      <td>5.3054</td>\n",
       "      <td>1.98690</td>\n",
       "    </tr>\n",
       "    <tr>\n",
       "      <th>94</th>\n",
       "      <td>8.2934</td>\n",
       "      <td>0.14454</td>\n",
       "    </tr>\n",
       "    <tr>\n",
       "      <th>95</th>\n",
       "      <td>13.3940</td>\n",
       "      <td>9.05510</td>\n",
       "    </tr>\n",
       "    <tr>\n",
       "      <th>96</th>\n",
       "      <td>5.4369</td>\n",
       "      <td>0.61705</td>\n",
       "    </tr>\n",
       "  </tbody>\n",
       "</table>\n",
       "<p>97 rows × 2 columns</p>\n",
       "</div>"
      ],
      "text/plain": [
       "          0         1\n",
       "0    6.1101  17.59200\n",
       "1    5.5277   9.13020\n",
       "2    8.5186  13.66200\n",
       "3    7.0032  11.85400\n",
       "4    5.8598   6.82330\n",
       "..      ...       ...\n",
       "92   5.8707   7.20290\n",
       "93   5.3054   1.98690\n",
       "94   8.2934   0.14454\n",
       "95  13.3940   9.05510\n",
       "96   5.4369   0.61705\n",
       "\n",
       "[97 rows x 2 columns]"
      ]
     },
     "execution_count": 33,
     "metadata": {},
     "output_type": "execute_result"
    }
   ],
   "source": [
    "data1"
   ]
  },
  {
   "cell_type": "code",
   "execution_count": 34,
   "id": "3b2d79e1",
   "metadata": {},
   "outputs": [
    {
     "name": "stdout",
     "output_type": "stream",
     "text": [
      "          0         1\n",
      "0  1.000000  0.837873\n",
      "1  0.837873  1.000000\n"
     ]
    }
   ],
   "source": [
    "print(data1.corr())"
   ]
  },
  {
   "cell_type": "code",
   "execution_count": 35,
   "id": "5c609479",
   "metadata": {},
   "outputs": [],
   "source": [
    "ypredmean = data['ypredicted'].mean()"
   ]
  },
  {
   "cell_type": "code",
   "execution_count": 36,
   "id": "a8610717",
   "metadata": {},
   "outputs": [
    {
     "data": {
      "text/plain": [
       "5.839135051546386"
      ]
     },
     "execution_count": 36,
     "metadata": {},
     "output_type": "execute_result"
    }
   ],
   "source": [
    "ypredmean"
   ]
  },
  {
   "cell_type": "code",
   "execution_count": 39,
   "id": "85b9c03e",
   "metadata": {},
   "outputs": [],
   "source": [
    "data['y-ypredicted']=(data['ypredicted']-ypredmean)**2"
   ]
  },
  {
   "cell_type": "code",
   "execution_count": 40,
   "id": "8de9e65d",
   "metadata": {},
   "outputs": [
    {
     "data": {
      "text/html": [
       "<div>\n",
       "<style scoped>\n",
       "    .dataframe tbody tr th:only-of-type {\n",
       "        vertical-align: middle;\n",
       "    }\n",
       "\n",
       "    .dataframe tbody tr th {\n",
       "        vertical-align: top;\n",
       "    }\n",
       "\n",
       "    .dataframe thead th {\n",
       "        text-align: right;\n",
       "    }\n",
       "</style>\n",
       "<table border=\"1\" class=\"dataframe\">\n",
       "  <thead>\n",
       "    <tr style=\"text-align: right;\">\n",
       "      <th></th>\n",
       "      <th>0</th>\n",
       "      <th>1</th>\n",
       "      <th>x</th>\n",
       "      <th>y</th>\n",
       "      <th>sq</th>\n",
       "      <th>xy</th>\n",
       "      <th>ypredicted</th>\n",
       "      <th>sqy</th>\n",
       "      <th>y-ypredicted</th>\n",
       "    </tr>\n",
       "  </thead>\n",
       "  <tbody>\n",
       "    <tr>\n",
       "      <th>0</th>\n",
       "      <td>6.1101</td>\n",
       "      <td>17.59200</td>\n",
       "      <td>-2.0497</td>\n",
       "      <td>11.752865</td>\n",
       "      <td>4.201270</td>\n",
       "      <td>-24.089847</td>\n",
       "      <td>3.393774</td>\n",
       "      <td>201.589622</td>\n",
       "      <td>5.979791</td>\n",
       "    </tr>\n",
       "    <tr>\n",
       "      <th>1</th>\n",
       "      <td>5.5277</td>\n",
       "      <td>9.13020</td>\n",
       "      <td>-2.6321</td>\n",
       "      <td>3.291065</td>\n",
       "      <td>6.927950</td>\n",
       "      <td>-8.662412</td>\n",
       "      <td>2.698951</td>\n",
       "      <td>41.360961</td>\n",
       "      <td>9.860755</td>\n",
       "    </tr>\n",
       "    <tr>\n",
       "      <th>2</th>\n",
       "      <td>8.5186</td>\n",
       "      <td>13.66200</td>\n",
       "      <td>0.3588</td>\n",
       "      <td>7.822865</td>\n",
       "      <td>0.128737</td>\n",
       "      <td>2.806844</td>\n",
       "      <td>6.267196</td>\n",
       "      <td>54.683133</td>\n",
       "      <td>0.183236</td>\n",
       "    </tr>\n",
       "    <tr>\n",
       "      <th>3</th>\n",
       "      <td>7.0032</td>\n",
       "      <td>11.85400</td>\n",
       "      <td>-1.1566</td>\n",
       "      <td>6.014865</td>\n",
       "      <td>1.337724</td>\n",
       "      <td>-6.956793</td>\n",
       "      <td>4.459272</td>\n",
       "      <td>54.681997</td>\n",
       "      <td>1.904021</td>\n",
       "    </tr>\n",
       "    <tr>\n",
       "      <th>4</th>\n",
       "      <td>5.8598</td>\n",
       "      <td>6.82330</td>\n",
       "      <td>-2.3000</td>\n",
       "      <td>0.984165</td>\n",
       "      <td>5.290000</td>\n",
       "      <td>-2.263579</td>\n",
       "      <td>3.095158</td>\n",
       "      <td>13.899045</td>\n",
       "      <td>7.529412</td>\n",
       "    </tr>\n",
       "    <tr>\n",
       "      <th>...</th>\n",
       "      <td>...</td>\n",
       "      <td>...</td>\n",
       "      <td>...</td>\n",
       "      <td>...</td>\n",
       "      <td>...</td>\n",
       "      <td>...</td>\n",
       "      <td>...</td>\n",
       "      <td>...</td>\n",
       "      <td>...</td>\n",
       "    </tr>\n",
       "    <tr>\n",
       "      <th>92</th>\n",
       "      <td>5.8707</td>\n",
       "      <td>7.20290</td>\n",
       "      <td>-2.2891</td>\n",
       "      <td>1.363765</td>\n",
       "      <td>5.239979</td>\n",
       "      <td>-3.121794</td>\n",
       "      <td>3.108162</td>\n",
       "      <td>16.766881</td>\n",
       "      <td>7.458215</td>\n",
       "    </tr>\n",
       "    <tr>\n",
       "      <th>93</th>\n",
       "      <td>5.3054</td>\n",
       "      <td>1.98690</td>\n",
       "      <td>-2.8544</td>\n",
       "      <td>-3.852235</td>\n",
       "      <td>8.147599</td>\n",
       "      <td>10.995820</td>\n",
       "      <td>2.433740</td>\n",
       "      <td>0.199666</td>\n",
       "      <td>11.596717</td>\n",
       "    </tr>\n",
       "    <tr>\n",
       "      <th>94</th>\n",
       "      <td>8.2934</td>\n",
       "      <td>0.14454</td>\n",
       "      <td>0.1336</td>\n",
       "      <td>-5.694595</td>\n",
       "      <td>0.017849</td>\n",
       "      <td>-0.760798</td>\n",
       "      <td>5.998524</td>\n",
       "      <td>34.269133</td>\n",
       "      <td>0.025405</td>\n",
       "    </tr>\n",
       "    <tr>\n",
       "      <th>95</th>\n",
       "      <td>13.3940</td>\n",
       "      <td>9.05510</td>\n",
       "      <td>5.2342</td>\n",
       "      <td>3.215965</td>\n",
       "      <td>27.396850</td>\n",
       "      <td>16.833004</td>\n",
       "      <td>12.083712</td>\n",
       "      <td>9.172489</td>\n",
       "      <td>38.994738</td>\n",
       "    </tr>\n",
       "    <tr>\n",
       "      <th>96</th>\n",
       "      <td>5.4369</td>\n",
       "      <td>0.61705</td>\n",
       "      <td>-2.7229</td>\n",
       "      <td>-5.222085</td>\n",
       "      <td>7.414184</td>\n",
       "      <td>14.219215</td>\n",
       "      <td>2.590624</td>\n",
       "      <td>3.894993</td>\n",
       "      <td>10.552826</td>\n",
       "    </tr>\n",
       "  </tbody>\n",
       "</table>\n",
       "<p>97 rows × 9 columns</p>\n",
       "</div>"
      ],
      "text/plain": [
       "          0         1       x          y         sq         xy  ypredicted  \\\n",
       "0    6.1101  17.59200 -2.0497  11.752865   4.201270 -24.089847    3.393774   \n",
       "1    5.5277   9.13020 -2.6321   3.291065   6.927950  -8.662412    2.698951   \n",
       "2    8.5186  13.66200  0.3588   7.822865   0.128737   2.806844    6.267196   \n",
       "3    7.0032  11.85400 -1.1566   6.014865   1.337724  -6.956793    4.459272   \n",
       "4    5.8598   6.82330 -2.3000   0.984165   5.290000  -2.263579    3.095158   \n",
       "..      ...       ...     ...        ...        ...        ...         ...   \n",
       "92   5.8707   7.20290 -2.2891   1.363765   5.239979  -3.121794    3.108162   \n",
       "93   5.3054   1.98690 -2.8544  -3.852235   8.147599  10.995820    2.433740   \n",
       "94   8.2934   0.14454  0.1336  -5.694595   0.017849  -0.760798    5.998524   \n",
       "95  13.3940   9.05510  5.2342   3.215965  27.396850  16.833004   12.083712   \n",
       "96   5.4369   0.61705 -2.7229  -5.222085   7.414184  14.219215    2.590624   \n",
       "\n",
       "           sqy  y-ypredicted  \n",
       "0   201.589622      5.979791  \n",
       "1    41.360961      9.860755  \n",
       "2    54.683133      0.183236  \n",
       "3    54.681997      1.904021  \n",
       "4    13.899045      7.529412  \n",
       "..         ...           ...  \n",
       "92   16.766881      7.458215  \n",
       "93    0.199666     11.596717  \n",
       "94   34.269133      0.025405  \n",
       "95    9.172489     38.994738  \n",
       "96    3.894993     10.552826  \n",
       "\n",
       "[97 rows x 9 columns]"
      ]
     },
     "execution_count": 40,
     "metadata": {},
     "output_type": "execute_result"
    }
   ],
   "source": [
    "data"
   ]
  },
  {
   "cell_type": "code",
   "execution_count": 41,
   "id": "fb12c633",
   "metadata": {},
   "outputs": [
    {
     "data": {
      "text/plain": [
       "2046.3146047180398"
      ]
     },
     "execution_count": 41,
     "metadata": {},
     "output_type": "execute_result"
    }
   ],
   "source": [
    "SSR = data['y-ypredicted'].sum()\n",
    "SSR"
   ]
  },
  {
   "cell_type": "code",
   "execution_count": 42,
   "id": "8f672898",
   "metadata": {},
   "outputs": [
    {
     "data": {
      "text/plain": [
       "1437.6958578600002"
      ]
     },
     "execution_count": 42,
     "metadata": {},
     "output_type": "execute_result"
    }
   ],
   "source": [
    "SST = data['sq'].sum()\n",
    "SST"
   ]
  },
  {
   "cell_type": "code",
   "execution_count": 43,
   "id": "6ceaff46",
   "metadata": {},
   "outputs": [
    {
     "data": {
      "text/plain": [
       "0.39588582509238857"
      ]
     },
     "execution_count": 43,
     "metadata": {},
     "output_type": "execute_result"
    }
   ],
   "source": [
    "Rsq = 1-(SSE/SST)\n",
    "Rsq"
   ]
  },
  {
   "cell_type": "code",
   "execution_count": 44,
   "id": "99b0040d",
   "metadata": {},
   "outputs": [
    {
     "data": {
      "image/png": "[encoded data removed]",
      "text/plain": [
       "<Figure size 432x288 with 1 Axes>"
      ]
     },
     "metadata": {
      "needs_background": "light"
     },
     "output_type": "display_data"
    }
   ],
   "source": [
    "plot1 = mt.scatter(data[0],data[1])\n",
    "plot2 = mt.plot(data[0],data['ypredicted'])"
   ]
  },
  {
   "cell_type": "code",
   "execution_count": null,
   "id": "39338106",
   "metadata": {},
   "outputs": [],
   "source": []
  }
 ],
 "metadata": {
  "kernelspec": {
   "display_name": "Python 3",
   "language": "python",
   "name": "python3"
  },
  "language_info": {
   "codemirror_mode": {
    "name": "ipython",
    "version": 3
   },
   "file_extension": ".py",
   "mimetype": "text/x-python",
   "name": "python",
   "nbconvert_exporter": "python",
   "pygments_lexer": "ipython3",
   "version": "3.8.5"
  }
 },
 "nbformat": 4,
 "nbformat_minor": 5
}
