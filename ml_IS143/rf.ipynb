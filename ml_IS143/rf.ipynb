{
 "cells": [
  {
   "cell_type": "code",
   "execution_count": 3,
   "id": "false-fleet",
   "metadata": {},
   "outputs": [
    {
     "name": "stdout",
     "output_type": "stream",
     "text": [
      "Accuracy :  0.8311688311688312\n",
      "f1_score :  0.7450980392156864\n",
      "Accuracy - DecisionTree :  0.6883116883116883\n",
      "f1_score :  0.5384615384615384\n"
     ]
    }
   ],
   "source": [
    "import pandas as pd\n",
    "import numpy as np\n",
    "import matplotlib.pyplot as plt\n",
    "import seaborn as sns\n",
    "from sklearn.model_selection import train_test_split\n",
    "from sklearn.ensemble import RandomForestClassifier\n",
    "from sklearn.datasets import make_classification\n",
    "from sklearn.metrics import accuracy_score,confusion_matrix,f1_score\n",
    "from sklearn.preprocessing import StandardScaler, MinMaxScaler\n",
    "from matplotlib import rcParams\n",
    "from sklearn.tree import DecisionTreeClassifier\n",
    "\n",
    "\n",
    "data=pd.read_csv(\"pima.csv\")\n",
    "data\n",
    "\n",
    "\n",
    "data.columns\n",
    "x=data.drop(\"Outcome\",axis=1)\n",
    "\n",
    "x\n",
    "y=data[\"Outcome\"]\n",
    "y\n",
    "\n",
    "\n",
    "scaler=StandardScaler()\n",
    "x_scaled=scaler.fit_transform(x)\n",
    "\n",
    "X_train,X_test,Y_train,Y_test=train_test_split(x_scaled,y,stratify=y,test_size=0.10,random_state=34)\n",
    "\n",
    "classifier=RandomForestClassifier(n_estimators=100)\n",
    "classifier.fit(X_train,Y_train)\n",
    "Y_pred=classifier.predict(X_test)\n",
    "print(\"Accuracy : \",accuracy_score(Y_test,Y_pred))\n",
    "\n",
    "\n",
    "feature_importances_df = pd.DataFrame({\"feature\":list(x.columns),\"importance\":classifier.feature_importances_}).sort_values(\"importance\")\n",
    "feature_importances_df\n",
    "\n",
    "\n",
    "confusion_matrix(Y_test,Y_pred)\n",
    "print(\"f1_score : \",f1_score(Y_test,Y_pred))\n",
    "\n",
    "\n",
    "clf=DecisionTreeClassifier()\n",
    "clf.fit(X_train,Y_train)\n",
    "Y_pred=clf.predict(X_test)\n",
    "print(\"Accuracy - DecisionTree : \",accuracy_score(Y_test,Y_pred))\n",
    "print(\"f1_score : \",f1_score(Y_test,Y_pred))"
   ]
  },
  {
   "cell_type": "code",
   "execution_count": null,
   "id": "endless-natural",
   "metadata": {},
   "outputs": [],
   "source": []
  }
 ],
 "metadata": {
  "kernelspec": {
   "display_name": "Python 3",
   "language": "python",
   "name": "python3"
  },
  "language_info": {
   "codemirror_mode": {
    "name": "ipython",
    "version": 3
   },
   "file_extension": ".py",
   "mimetype": "text/x-python",
   "name": "python",
   "nbconvert_exporter": "python",
   "pygments_lexer": "ipython3",
   "version": "3.8.5"
  }
 },
 "nbformat": 4,
 "nbformat_minor": 5
}
