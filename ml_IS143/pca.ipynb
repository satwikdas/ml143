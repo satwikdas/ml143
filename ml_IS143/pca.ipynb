{
 "cells": [
  {
   "cell_type": "code",
   "execution_count": null,
   "id": "wireless-sharing",
   "metadata": {},
   "outputs": [],
   "source": [
    "import pandas as pd\n",
    "import numpy as np\n",
    "from numpy import linalg as la\n",
    "import pylab as pl\n",
    "import matplotlib.pyplot as plt\n",
    "\n",
    "\n",
    "data = pd.read_csv('iris.csv')\n",
    "\n",
    "\n",
    "\n",
    "\n",
    "\n",
    "\n",
    "\n",
    "\n",
    "\n",
    "\n",
    "\n",
    "\n",
    "\n",
    "\n",
    "\n",
    "\n",
    "\n",
    "\n"
   ]
  },
  {
   "cell_type": "code",
   "execution_count": null,
   "id": "lonely-belize",
   "metadata": {},
   "outputs": [],
   "source": [
    "data"
   ]
  },
  {
   "cell_type": "code",
   "execution_count": null,
   "id": "hourly-interaction",
   "metadata": {},
   "outputs": [],
   "source": []
  },
  {
   "cell_type": "code",
   "execution_count": null,
   "id": "metallic-admission",
   "metadata": {},
   "outputs": [],
   "source": []
  },
  {
   "cell_type": "code",
   "execution_count": null,
   "id": "interracial-franchise",
   "metadata": {},
   "outputs": [],
   "source": []
  },
  {
   "cell_type": "code",
   "execution_count": null,
   "id": "headed-while",
   "metadata": {},
   "outputs": [],
   "source": []
  },
  {
   "cell_type": "code",
   "execution_count": null,
   "id": "acting-application",
   "metadata": {},
   "outputs": [],
   "source": []
  },
  {
   "cell_type": "code",
   "execution_count": null,
   "id": "russian-driver",
   "metadata": {},
   "outputs": [],
   "source": []
  },
  {
   "cell_type": "code",
   "execution_count": null,
   "id": "laughing-playback",
   "metadata": {},
   "outputs": [],
   "source": []
  },
  {
   "cell_type": "code",
   "execution_count": null,
   "id": "timely-valve",
   "metadata": {},
   "outputs": [],
   "source": [
    "\n",
    "\n",
    "\n",
    "x = data.drop(columns='species')\n",
    "x = np.array(x)\n",
    "x\n",
    "y = data['species']\n",
    "y = np.array(y)\n",
    "y\n",
    "x_mean = np.mean(x)\n",
    "y_mean = np.mean(y)\n",
    "x_std = x-x_mean\n",
    "y_std = y-y_mean\n",
    "cov_mat = np.cov(x_std.T)\n",
    "cov_mat\n",
    "eig_val,eig_vec = la.eig(cov_mat)\n",
    "eig_pairs = [(np.abs(eig_val[i]), eig_vec[:,i]) for i in range(len(eig_val))]\n",
    "eig_pairs.sort(key=lambda x: x[0], reverse=True)\n",
    "print('Eigenvalues in descending order:')\n",
    "for i in eig_pairs:\n",
    "    print(i[0])\n",
    "    total = sum(eig_val)\n",
    "for i in eig_val:\n",
    "    var = (i/total)*100\n",
    "    print(var)\n",
    "matrix_w = np.hstack((eig_pairs[0][1].reshape(4,1),eig_pairs[1][1].reshape(4,1)))\n",
    "matrix_w\n",
    "Y = x_std.dot(matrix_w)\n",
    "print(Y[0:5])\n",
    "\n",
    "# pl.figure()\n",
    "# target_names = ['Setosa','Versicolor','Virginica']\n",
    "# for c, i, target_name in zip(\"rgb\", [1, 2, 3], target_names):\n",
    "# pl.scatter(Y[y==i,0], Y[y==i,1], c=c, label=target_name)\n",
    "# pl.xlabel('Principal Component 1')\n",
    "# pl.ylabel('Principal Component 2')\n",
    "# pl.legend()\n",
    "# pl.title('PCA of IRIS dataset')\n",
    "# pl.show()\n",
    "\n",
    "for i in range(len(y)):\n",
    "    if y[i]==1:\n",
    "        plt.scatter(Y[i,0],Y[i,1],c=\"red\")\n",
    "    elif y[i]==2:\n",
    "        plt.scatter(Y[i,0],Y[i,1],c=\"green\")\n",
    "    elif y[i]==3:\n",
    "        plt.scatter(Y[i,0],Y[i,1],c=\"blue\")\n"
   ]
  },
  {
   "cell_type": "code",
   "execution_count": null,
   "id": "geological-tuesday",
   "metadata": {},
   "outputs": [],
   "source": []
  }
 ],
 "metadata": {
  "kernelspec": {
   "display_name": "Python 3",
   "language": "python",
   "name": "python3"
  },
  "language_info": {
   "codemirror_mode": {
    "name": "ipython",
    "version": 3
   },
   "file_extension": ".py",
   "mimetype": "text/x-python",
   "name": "python",
   "nbconvert_exporter": "python",
   "pygments_lexer": "ipython3",
   "version": "3.8.5"
  }
 },
 "nbformat": 4,
 "nbformat_minor": 5
}
